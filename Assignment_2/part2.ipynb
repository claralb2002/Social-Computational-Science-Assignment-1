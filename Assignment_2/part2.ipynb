{
 "cells": [
  {
   "cell_type": "markdown",
   "metadata": {},
   "source": [
    "# Part 2"
   ]
  },
  {
   "cell_type": "markdown",
   "metadata": {},
   "source": [
    "## Part 2 Network Analysis in Computational Social Science\n",
    "\n",
    "These exercises are taken from Week 6: __Exercise 1: Mixing Patterns and Assortativity__ and __Exercise 3: Zachary's karate club__.\n",
    "\n",
    "> __Exercise 1: Mixing Patterns and Assortativity__ \n",
    ">\n",
    "> __Part 1: Assortativity Coefficient__ \n",
    "> 1. *Calculate the Assortativity Coefficient* for the network based on the country of each node. Implement the calculation using the formula provided during the lecture, also available in [this paper](https://arxiv.org/pdf/cond-mat/0209450.pdf) (equation 2, here for directed networks). **Do not use the NetworkX implementation.**\n",
    ">\n"
   ]
  },
  {
   "cell_type": "code",
   "execution_count": 3,
   "metadata": {},
   "outputs": [],
   "source": [
    "import json\n",
    "import networkx as nx\n",
    "import numpy as np"
   ]
  },
  {
   "cell_type": "code",
   "execution_count": 4,
   "metadata": {},
   "outputs": [],
   "source": [
    "# Load the JSON file\n",
    "with open(\"final_network.json\", \"r\") as f:\n",
    "    graph_data = json.load(f)\n",
    "\n",
    "# Convert JSON back to NetworkX graph\n",
    "G_loaded = nx.json_graph.node_link_graph(graph_data, directed=True)"
   ]
  },
  {
   "cell_type": "code",
   "execution_count": 9,
   "metadata": {},
   "outputs": [],
   "source": [
    "# Ensure all nodes have a valid \"country\" attribute\n",
    "for node in G_loaded.nodes:\n",
    "    G_loaded.nodes[node][\"country\"] = G_loaded.nodes[node].get(\"country\", \"Unknown\")\n",
    "\n",
    "# Convert country names to numerical labels\n",
    "list_of_countries = list(set(nx.get_node_attributes(G_loaded, \"country\").values()))\n",
    "country_mapping = {country: i for i, country in enumerate(list_of_countries)}\n",
    "\n",
    "# Apply the mapping directly to the graph\n",
    "new_country_attributes = {}\n",
    "\n",
    "for node in G_loaded.nodes:\n",
    "    country_name = G_loaded.nodes[node][\"country\"]\n",
    "    numeric_label = country_mapping[country_name]\n",
    "    new_country_attributes[node] = {\"country\": numeric_label}\n",
    "\n",
    "nx.set_node_attributes(G_loaded, new_country_attributes)"
   ]
  },
  {
   "cell_type": "code",
   "execution_count": 10,
   "metadata": {},
   "outputs": [
    {
     "name": "stdout",
     "output_type": "stream",
     "text": [
      "Manual Assortativity: 0.3190435281711051\n"
     ]
    }
   ],
   "source": [
    "def assortativity_coefficient(G, attribute):\n",
    "    \"\"\"\n",
    "    Compute the assortativity coefficient for a directed network based on a categorical node attribute.\n",
    "    \"\"\"\n",
    "    edges = [(src, dst) for src, dst in G.edges if attribute in G.nodes[src] and attribute in G.nodes[dst]]\n",
    "\n",
    "    # Extract numerical attribute values for each edge\n",
    "    j_i = np.array([G.nodes[src][attribute] for src, dst in edges], dtype=np.float64)\n",
    "    k_i = np.array([G.nodes[dst][attribute] for src, dst in edges], dtype=np.float64)\n",
    "\n",
    "    M = len(j_i)  # Number of edges\n",
    "\n",
    "    # Compute assortativity formula with improved numerical stability\n",
    "    sum_jk = np.sum(j_i * k_i) / M\n",
    "    sum_j = np.sum(j_i) / M\n",
    "    sum_k = np.sum(k_i) / M\n",
    "    sum_j2 = np.sum(j_i ** 2) / M\n",
    "    sum_k2 = np.sum(k_i ** 2) / M\n",
    "\n",
    "    numerator = sum_jk - sum_j * sum_k\n",
    "    denominator = np.sqrt((sum_j2 - sum_j ** 2) * (sum_k2 - sum_k ** 2))\n",
    "\n",
    "    return numerator / denominator if denominator != 0 else 0\n",
    "\n",
    "# Compute assortativity coefficient\n",
    "r = assortativity_coefficient(G_loaded, \"country\")\n",
    "print(\"Manual Assortativity:\", r)\n"
   ]
  },
  {
   "cell_type": "markdown",
   "metadata": {},
   "source": [
    "> __Part 2: Configuration model__\n",
    "> In the following, we are going to assess the significance of the assortativity by comparing the network's assortativity coefficient against that of random networks generated through the configuration model.  \n",
    ">\n",
    "> 2. *Implement the configuration model* using the _double edge swap_ algorithm to generate random networks. Ensure each node retains its original degree but with altered connections. Create a function that does that by following these steps:\n",
    ">   - **a.** Create an exact copy of your original network.\n",
    ">   - **b.** Select two edges, $e_{1} = (u,v)$ and $e_{2} = (x,y)$, ensuring *u != y* and *v != x*.\n",
    ">   - **c.** Flip the direction of $e_{1}$ to $e_{1} = (v,u)$ 50% of the time. This ensure that your final results is not biased, in case your edges were sorted (they usually are). \n",
    ">   - **d.** Ensure that new edges $e_{1}' = (e_{1}[0],e_{2}[1])$ and $e_{2}' = (e_{2}[0],e_{1}[1])$ do not already exist in the network.\n",
    ">   - **e.** Remove edges $e_{1}$ and $e_{2}$ and add edges $e_{1}'$ and $e_{2}'$.\n",
    ">   - **f.** Repeat steps **b** to **e** until you have performed _E*10_ swaps, where E is the total number of edges.\n"
   ]
  },
  {
   "cell_type": "code",
   "execution_count": 96,
   "metadata": {},
   "outputs": [],
   "source": [
    "import networkx as nx\n",
    "import random\n",
    "import matplotlib.pyplot as plt\n",
    "from tqdm import tqdm"
   ]
  },
  {
   "cell_type": "code",
   "execution_count": 13,
   "metadata": {},
   "outputs": [],
   "source": [
    "# Load the original network\n",
    "with open(\"final_network.json\", \"r\") as f:\n",
    "    graph_data = json.load(f)\n",
    "\n",
    "# Convert JSON back to a NetworkX graph\n",
    "G_loaded = nx.node_link_graph(graph_data, directed=False)"
   ]
  },
  {
   "cell_type": "code",
   "execution_count": 72,
   "metadata": {},
   "outputs": [],
   "source": [
    "def double_edge_swap(G, num_swaps_multiplier=10):\n",
    "\n",
    "   # Create a deep copy of the graph\n",
    "    G_copy = G.copy()\n",
    "\n",
    "    edges = set(G_copy.edges())  # Ensure edges are undirected\n",
    "    E = len(edges)  # Number of edges\n",
    "    num_swaps = E * num_swaps_multiplier  # Total swaps to perform\n",
    "\n",
    "    for _ in tqdm(range(num_swaps)):\n",
    "        # Select two random edges (convert set to list first)\n",
    "        edge_list = list(edges)  # Convert set to list for sampling\n",
    "        e1, e2 = random.sample(edge_list, 2)\n",
    "        u, v = e1\n",
    "        x, y = e2\n",
    "\n",
    "        # Randomly flip e1 direction to avoid sorting bias\n",
    "        if random.random() < 0.5:\n",
    "            u, v = v, u\n",
    "        if random.random() < 0.5:\n",
    "            x, y = y, x\n",
    "\n",
    "        # Ensure valid swapping conditions\n",
    "        if u != y and v != x and (u, y) not in G_copy.edges() and (x, v) not in G_copy.edges():\n",
    "            if (x,y) in G_copy.edges() and (u,v) in G_copy.edges(): \n",
    "                # Remove old edges safely \n",
    "                G_copy.remove_edge(u, v)\n",
    "                G_copy.remove_edge(x, y)\n",
    "\n",
    "                # Add new edges\n",
    "                G_copy.add_edge(u, y)\n",
    "                G_copy.add_edge(x, v)\n",
    "\n",
    "    return G_copy"
   ]
  },
  {
   "cell_type": "code",
   "execution_count": 73,
   "metadata": {},
   "outputs": [
    {
     "name": "stderr",
     "output_type": "stream",
     "text": [
      "100%|██████████| 594320/594320 [18:02<00:00, 549.01it/s] \n"
     ]
    }
   ],
   "source": [
    "G_randomized = double_edge_swap(G_loaded)"
   ]
  },
  {
   "cell_type": "markdown",
   "metadata": {},
   "source": [
    "\n",
    "> 3. *Double check that your algorithm works well*, by showing that the degree of nodes in the original network and the new 'randomized' version of the network are the same.\n",
    ">\n",
    ">\n"
   ]
  },
  {
   "cell_type": "code",
   "execution_count": 74,
   "metadata": {},
   "outputs": [
    {
     "name": "stdout",
     "output_type": "stream",
     "text": [
      "15101 15101\n",
      "Degree distribution preserved: True\n"
     ]
    }
   ],
   "source": [
    "# Verify that the degree distributions are identical\n",
    "original_degrees = dict(G_loaded.degree())\n",
    "randomized_degrees = dict(G_randomized.degree())\n",
    "print(len(original_degrees),len(randomized_degrees))\n",
    "\n",
    "\n",
    "# Compare degree distributions\n",
    "degree_match = all(original_degrees[node] == randomized_degrees[node] for node in G_loaded.nodes())\n",
    "\n",
    "print(\"Degree distribution preserved:\", degree_match)"
   ]
  },
  {
   "cell_type": "markdown",
   "metadata": {},
   "source": [
    "> __Part 3: Analyzing Assortativity in Random Networks__  \n",
    ">\n",
    "> 4. *Generate and analyze at least 100 random networks* using the configuration model. For each, calculate the assortativity with respect to the country and plot the distribution of these values. Compare the results with the assortativity of your original network to determine if connections within the same country are significantly higher than chance.\n",
    ">\n"
   ]
  },
  {
   "cell_type": "code",
   "execution_count": 82,
   "metadata": {},
   "outputs": [],
   "source": [
    "import random\n",
    "import itertools\n",
    "\n",
    "def double_edge_swap_2(G, num_swaps_multiplier=10):\n",
    "\n",
    "   # Create a deep copy of the graph\n",
    "    G_copy = G.copy()\n",
    "    G_copy = G_copy.to_undirected()\n",
    "\n",
    "    E = len(G_copy.edges())\n",
    "    nodes = list(itertools.chain(*list(G_copy.edges())))\n",
    "    num_swaps = E * num_swaps_multiplier  # Total swaps to perform\n",
    "\n",
    "    for _ in range(num_swaps): \n",
    "        x,u = random.sample(nodes,2)\n",
    "        v = random.choice(list(G[u]))\n",
    "        y = random.choice(list(G[x]))\n",
    "\n",
    "        if u != y and x != v and (u, y) not in G_copy.edges() and (x, v) not in G_copy.edges():\n",
    "            if (x,y) in G_copy.edges() and (u,v) in G_copy.edges(): \n",
    "            # Remove old edges safely \n",
    "                G_copy.remove_edge(u, v)\n",
    "                G_copy.remove_edge(x, y)\n",
    "\n",
    "                # Add new edges\n",
    "                G_copy.add_edge(u, y)\n",
    "                G_copy.add_edge(x, v)\n",
    "\n",
    "    return G_copy"
   ]
  },
  {
   "cell_type": "code",
   "execution_count": 83,
   "metadata": {},
   "outputs": [],
   "source": [
    "G_randomized = double_edge_swap_2(G_loaded)"
   ]
  },
  {
   "cell_type": "code",
   "execution_count": 84,
   "metadata": {},
   "outputs": [
    {
     "name": "stdout",
     "output_type": "stream",
     "text": [
      "15101 15101\n",
      "Degree distribution preserved: True\n"
     ]
    }
   ],
   "source": [
    "# Verify that the degree distributions are identical\n",
    "original_degrees = dict(G_loaded.degree())\n",
    "randomized_degrees = dict(G_randomized.degree())\n",
    "print(len(original_degrees),len(randomized_degrees))\n",
    "\n",
    "\n",
    "# Compare degree distributions\n",
    "degree_match = all(original_degrees[node] == randomized_degrees[node] for node in G_loaded.nodes())\n",
    "\n",
    "print(\"Degree distribution preserved:\", degree_match)"
   ]
  },
  {
   "cell_type": "code",
   "execution_count": null,
   "metadata": {},
   "outputs": [],
   "source": [
    "def A_coefficient(G):\n",
    "    # Select the attribute to compute assortativity\n",
    "    attribute = \"country\"  # Change this to the attribute you want\n",
    "\n",
    "    # Create a mapping from unique attribute values to numeric labels\n",
    "    unique_values = set(data.get(attribute, \"Unknown\") for _, data in G.nodes(data=True))\n",
    "    attribute_mapping = {val: i for i, val in enumerate(unique_values)}\n",
    "\n",
    "    # Assign numeric labels to each node\n",
    "    for node in G.nodes:\n",
    "        if attribute in G.nodes[node]:\n",
    "            G.nodes[node][attribute] = attribute_mapping[G.nodes[node][attribute]]\n",
    "        else:\n",
    "            G.nodes[node][attribute] = -1  # Default for missing values\n",
    "\n",
    "    # Now try computing assortativity\n",
    "    nx_r = nx.numeric_assortativity_coefficient(G, \"country\")\n",
    "\n",
    "    return nx_r\n"
   ]
  },
  {
   "cell_type": "code",
   "execution_count": 104,
   "metadata": {},
   "outputs": [
    {
     "name": "stderr",
     "output_type": "stream",
     "text": [
      "100%|██████████| 100/100 [19:00<00:00, 11.41s/it]\n"
     ]
    }
   ],
   "source": [
    "from tqdm import tqdm\n",
    "\n",
    "list_of_AC = []\n",
    "\n",
    "for _ in tqdm(range(100)): \n",
    "    G_randomized = double_edge_swap_2(G_loaded)\n",
    "    nx_value = A_coefficient(G_randomized)\n",
    "    list_of_AC.append(nx_value)"
   ]
  },
  {
   "cell_type": "code",
   "execution_count": 105,
   "metadata": {},
   "outputs": [
    {
     "data": {
      "image/png": "[encoded data removed]",
      "text/plain": [
       "<Figure size 1000x600 with 1 Axes>"
      ]
     },
     "metadata": {},
     "output_type": "display_data"
    }
   ],
   "source": [
    "original_ac = r\n",
    "\n",
    "plt.figure(figsize=(10, 6))\n",
    "plt.hist(list_of_AC, bins=20, edgecolor='black', alpha=0.7, label='Random networks')\n",
    "plt.axvline(original_ac, color='red', linestyle='--', linewidth=2, label='Original network')\n",
    "plt.xlabel(\"Assortativity by Country\")\n",
    "plt.ylabel(\"Frequency\")\n",
    "plt.title(\"Distribution of Assortativity from Random Networks vs. Original\")\n",
    "plt.legend()\n",
    "plt.grid(True)\n",
    "plt.show()"
   ]
  }
 ],
 "metadata": {
  "kernelspec": {
   "display_name": "Python 3",
   "language": "python",
   "name": "python3"
  },
  "language_info": {
   "codemirror_mode": {
    "name": "ipython",
    "version": 3
   },
   "file_extension": ".py",
   "mimetype": "text/x-python",
   "name": "python",
   "nbconvert_exporter": "python",
   "pygments_lexer": "ipython3",
   "version": "3.11.9"
  },
  "orig_nbformat": 4
 },
 "nbformat": 4,
 "nbformat_minor": 2
}
